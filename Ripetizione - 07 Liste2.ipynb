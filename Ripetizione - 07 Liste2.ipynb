{
 "cells": [
  {
   "cell_type": "markdown",
   "metadata": {},
   "source": [
    "## Liste bidimensionali\n",
    "\n",
    "Le liste possono contenere altre liste: in tal caso si chiamano liste bidimensionali.\n",
    "\n",
    "Supponiamo di voler memorizzare le altezze di alcune persone. Senza usare liste bidimensionali, dovremmo creare una lista per ciascuna persona, come nell'esempio seguente:"
   ]
  },
  {
   "cell_type": "code",
   "execution_count": null,
   "metadata": {},
   "outputs": [],
   "source": [
    "giovanni = ['Giovanni', 178]\n",
    "marco = ['Marco', 183]\n",
    "luisa = ['Luisa', 170]"
   ]
  },
  {
   "cell_type": "markdown",
   "metadata": {},
   "source": [
    "Con le liste bidimensionali possiamo usare una sola variabile come nell'esempio seguente:"
   ]
  },
  {
   "cell_type": "code",
   "execution_count": null,
   "metadata": {},
   "outputs": [],
   "source": [
    "altezze = [['Giovanni', 178], ['Marco', 183], ['Luisa', 170]]"
   ]
  },
  {
   "cell_type": "markdown",
   "metadata": {},
   "source": [
    "Sulle liste bidimensionali si possono usare tutte le funzioni e i metodi già visti per le liste. Se vogliamo aggiungere un'altra coppia persona-altezza alla lista possiamo usare il metodo `append()`:"
   ]
  },
  {
   "cell_type": "code",
   "execution_count": null,
   "metadata": {},
   "outputs": [],
   "source": [
    "altezze.append(['Giulia', 174])"
   ]
  },
  {
   "cell_type": "markdown",
   "metadata": {},
   "source": [
    "Le liste bidimensionali possono essere considerate come delle tabelle composte da righe e colonne. Nel caso della lista altezze, la tabella è composta in questo modo:\n",
    "\n",
    "**Nome**&nbsp;&nbsp;&nbsp;&nbsp;&nbsp;&nbsp;&nbsp;&nbsp;&nbsp;&nbsp;&nbsp;&nbsp;**Altezza**\n",
    "\n",
    "Giovanni&nbsp;&nbsp;&nbsp;&nbsp;&nbsp;&nbsp;&nbsp;&nbsp;&nbsp;&nbsp;&nbsp;&nbsp;178\n",
    "\n",
    "Marco&nbsp;&nbsp;&nbsp;&nbsp;&nbsp;&nbsp;&nbsp;&nbsp;&nbsp;&nbsp;&nbsp;&nbsp;&nbsp;&nbsp;&nbsp;&nbsp;&nbsp;183\n",
    "\n",
    "Luisa&nbsp;&nbsp;&nbsp;&nbsp;&nbsp;&nbsp;&nbsp;&nbsp;&nbsp;&nbsp;&nbsp;&nbsp;&nbsp;&nbsp;&nbsp;&nbsp;&nbsp;&nbsp;&nbsp;170\n",
    "\n",
    "Giulia&nbsp;&nbsp;&nbsp;&nbsp;&nbsp;&nbsp;&nbsp;&nbsp;&nbsp;&nbsp;&nbsp;&nbsp;&nbsp;&nbsp;&nbsp;&nbsp;&nbsp;&nbsp;174\n",
    "\n",
    "\n",
    "Bisogna fare attenzione al modo in cui usiamo gli indici nelle liste bidimensionali. Per stampare l'altezza di Luisa dobbiamo scrivere così:"
   ]
  },
  {
   "cell_type": "code",
   "execution_count": null,
   "metadata": {},
   "outputs": [],
   "source": [
    "print(altezze[2][1])"
   ]
  },
  {
   "cell_type": "markdown",
   "metadata": {},
   "source": [
    "Considerando la lista bidimensionale come una tabella, ciò equivale a dire: stampa la seconda colonna (indice 1) della terza riga (indice 2). Quindi si inserisce l'indice della riga e poi l'indice della colonna. Si possono usare anche indici negativi quindi possiamo anche scrivere:"
   ]
  },
  {
   "cell_type": "code",
   "execution_count": null,
   "metadata": {},
   "outputs": [],
   "source": [
    "# stampa con indici negativi\n",
    "print(altezze[-1][0])\n",
    "\n",
    "\n",
    "print(altezze[-2][-1])\n"
   ]
  },
  {
   "cell_type": "markdown",
   "metadata": {},
   "source": [
    "### Esercizi"
   ]
  },
  {
   "cell_type": "code",
   "execution_count": null,
   "metadata": {},
   "outputs": [],
   "source": [
    "'''\n",
    "Gestisci i dati degli acquisti in un negozio. Crea una lista che contenga i dati dei clienti mostrati nella tabella seguente:\n",
    "\n",
    "Nome\t\t\tTaglia\t\t\tSpedizione veloce\n",
    "\"Alessia\"\t\t\"Small\"\t\t\t\tTrue\n",
    "\"Vito\"\t\t\t\"Large\"\t\t\t\tFalse\n",
    "\"Carlo\"\t\t\t\"Medium\"\t\t\tTrue\n",
    "\"Debora\"\t\t\"Medium\"\t\t\tFalse\n",
    "\n",
    "Definisci poi due funzioni:\n",
    "\n",
    "1) Aggiunta di nuovi clienti che accetta in input una lista contenente Nome, Taglia e Spedizione veloce e la aggiunge alla lista definita precedentemente\n",
    "2) Modifica di uno dei valori della lista che accetta in input il nome del cliente, il campo da modificare (Taglia o Spedizione veloce) e il nuovo valore da inserire in quel campo e modifica la lista.\n",
    "\n",
    "'''"
   ]
  },
  {
   "cell_type": "code",
   "execution_count": null,
   "metadata": {},
   "outputs": [],
   "source": [
    "'''\n",
    "Definisci una lista contenente i nomi e cognomi di 5 tuoi compagni di classe (la lista contiene 5 elementi di tipo stringa e in ogni stringa è contenuto un nome e un cognome) con le iniziali di nome e cognome maiuscole.\n",
    "\n",
    "Crea una nuova lista a partire dalla prima che contiene solo il nome proprio di ciascuna persona scritto tutto in minuscolo.\n",
    "\n",
    "'''"
   ]
  }
 ],
 "metadata": {
  "kernelspec": {
   "display_name": "Python 3",
   "language": "python",
   "name": "python3"
  },
  "language_info": {
   "codemirror_mode": {
    "name": "ipython",
    "version": 3
   },
   "file_extension": ".py",
   "mimetype": "text/x-python",
   "name": "python",
   "nbconvert_exporter": "python",
   "pygments_lexer": "ipython3",
   "version": "3.10.8"
  }
 },
 "nbformat": 4,
 "nbformat_minor": 4
}
